{
 "cells": [
  {
   "cell_type": "markdown",
   "metadata": {},
   "source": [
    "# eQuest Quick Editting Interface"
   ]
  },
  {
   "cell_type": "markdown",
   "metadata": {},
   "source": [
    "## Introduction\n",
    "\n",
    "This is toolkit for advanced eQuest users to quickly and simply edit inp files with python. files that eQuest generate in detailed mode.\n",
    "\n",
    "\n",
    "## Index\n",
    "- [Get Started](#Get-Started)\n",
    "    - [1. Install Python/Anaconda](#1.-Install-Python/Anaconda)\n",
    "    - [2. Explore equest-api](#2.-Explore-equest-api)\n",
    "- [Quick Demos](#Quick-Demos)\n",
    "    - [Quickly set up detailed model with space named properly](#qd-1)\n",
    "    - [Change semi-exterior walls to a certain construction](#qd-2)\n",
    "- [Classes/Ojbects](#Classes)\n",
    "    - [`Inp(object)`](#item-1)\n",
    "    - [`InpList(object)`](#item-2)\n",
    "    - [`InpItem(object)`](#item-3)\n",
    "    - [`Title(InpItem)`](#item-4)\n",
    "    - [`DefaultSetting(InpItem)`](#item-5)\n",
    "    - [`AirSystem(InpItem)`](#item-6)\n",
    "    - [`Zone(InpItem)`](#item-7)\n",
    "    - [`Flr(InpItem)`](#item-8)\n",
    "    - [`Space(InpItem)`](#item-9)\n",
    "    - [`Wall(InpItem)`](#item-10)\n",
    "        - [`InteriorWall`](#item_101)\n",
    "        - [`ExteriorWall`](#item-102)\n",
    "        - [`UgWall`](#item-103)\n",
    "        <br><br>\n",
    "    - [`Win(InpItem)`](#item-11)\n",
    "    - [`Door(InpItem)`](#item-12)\n",
    "    - [`Polygon(InpItem)`](#item-13)\n",
    "    - [`Pt(object)`](#item-14)"
   ]
  },
  {
   "cell_type": "markdown",
   "metadata": {},
   "source": [
    "## Get Started\n",
    "### 1. Install Python/Anaconda\n",
    "Python is now built-in with the latest Windows 10 system. Try type `python` in command line and see what version of python you have. My system gave me below. <br>\n",
    "`Python 3.7.0 (v3.7.0:1bf9cc5093, Jun 27 2018, 04:06:47) [MSC v.1914 32 bit (Intel)] on win32\n",
    "Type \"help\", \"copyright\", \"credits\" or \"license\" for more information.`\n",
    "<br><br>\n",
    "In most cases, instead of runing python files directly using system enviroment, we usually use a \"virtual environment\" to compile and run the python files. There're lots of benefits of using \"virtual environment\" and I won't explain too much here. Also there're many different methods to set up a virtual enviroment. To complete our work, I would recommend using [Anaconda](https://www.anaconda.com/). The tool we will be using to call and run python files is called [Jupyter Notebook](https://jupyter.org/). It offers an interactive interface for output, which is perfect for us. \n",
    "<br><br>\n",
    "See below for steps to set up the enviroment and run our first line of python code:\n",
    "  1. **Installation.** Please download and install free distribution of Anaconda from [here](https://docs.anaconda.com/anaconda/install/windows/). Jupyter Notebook will usually come with the Anaconda installation.\n",
    "  2. **Open Anaconda Prompt.** Search Windows for \"Anaconda Prompt\" and left-click on it. You can also use the graphic interface version by searching for \"Anaconda Navigator\". \n",
    "  3. **Set up virtual environment and install dependencies.** In this case, we will just use the base environment (so there's nothing you need to do about it) and install just one package called `bidict`. Make sure you're connect to the internet. Input `pip install bidict` in the propmt window and hit \"Enter\" then you will be all set. \n",
    "  4. **Copy eQuest dependencies.** Copy the fold `\\\\ENNYCCIFS01\\projects\\z-MISC\\IPA\\Resources\\eQuest\\Python\\equest-api` to your local machine.\n",
    "  5. **Navigate to your work directory.** In the Anaconda Prompt, navigate to the work directory you want to use. The working directly will be the location you will be saving all of your python files but not neccessarily the .inp files. We will also talk about this later. <br> The example to navigate: `cd C:\\Users\\usxl671686\\OneDrive - WSP O365\\Research\\eQuest Geo API\\equest-api`. \n",
    "  6. **Open Jupyter Notebook.** Type `Jupyter Notebook` and hit \"Enter\". The software will open a web page with your default web browser where you can access all the files in your work directory.\n",
    "  7. **Create your own Notebook.** On the upper right part of the page, click on \"New\" and select \"Python 3\" in the dropdown menu. A new tab will pop up and you will have your own Notebook. The file type Jupyter Notebook works on will have extension \".ipynb\" which is different from ususal python file extention \".py\". Feel free to explore the interface to get familiar with it. Basically each container is called \"cell\". Each cell can be run seperately and the output will be shown right below the cell. The variables will be saved in the kernel memory once you run the cell and can be called from other cells. To clean up the memory, you will need to restart or shutdown the kernel from the \"Kernel\" dropdown menu.\n",
    "  8. **Run \"Hello World!\".** Type the code below in the first cell and hit Shift+Enter to run the cell."
   ]
  },
  {
   "cell_type": "code",
   "execution_count": 1,
   "metadata": {
    "scrolled": true
   },
   "outputs": [
    {
     "name": "stdout",
     "output_type": "stream",
     "text": [
      "Hello World!\n"
     ]
    }
   ],
   "source": [
    "print(\"Hello World!\")"
   ]
  },
  {
   "cell_type": "markdown",
   "metadata": {},
   "source": [
    "You can also now open \"Get Started with eQuest-api.ipynb\", which I used to generate this html file."
   ]
  },
  {
   "cell_type": "markdown",
   "metadata": {},
   "source": [
    " ### 2. Explore equest-api\n",
    " I call the package built \"equest-api\". The abbreviation \"api\" stands for Application Programming Interface. It kind of doesn't make lots of sense here but we will continue use it until we find another one. In this chapter, I will introduce how eQuest model information a.k.a \".inp\" files is stored with equest-api. <br>\n",
    " Before that, see the example below to get familiar with some basics of python syntax."
   ]
  },
  {
   "cell_type": "code",
   "execution_count": 23,
   "metadata": {},
   "outputs": [
    {
     "name": "stdout",
     "output_type": "stream",
     "text": [
      "func(x) is called.\n",
      "distance of p1 and p2:  2.0\n",
      "value of parmater 'x' of p1:  1\n"
     ]
    }
   ],
   "source": [
    "# Comment will start with a \"#\". Anything after \"#\" will be ignored.\n",
    "\n",
    "# This is how functions will be defined.\n",
    "def func(x):\n",
    "    print(\"func(x) is called.\")\n",
    "    return 2*x\n",
    "\n",
    "# This is what an object looks like\n",
    "class Point(object):\n",
    "    \n",
    "    def __init__(self, x, y):\n",
    "        self.x = x\n",
    "        self.y = y\n",
    "        pass\n",
    "    \n",
    "    def distance(self, other):\n",
    "        return ((self.x-other.x)**2 + (self.y-other.y)**2)**0.5\n",
    "    \n",
    "# This is some basic syntax\n",
    "x = 2 # assign 2 to variable x\n",
    "y = func(2) # call fucntion func(x)\n",
    "p1 = Point(1, 2) # create an instance of Point\n",
    "p2 = Point(1, 4) # creatae another instance of Point\n",
    "dis = p1.distance(p2) # call p1's method Point.distance(other). Note that input \"self\" is ignored.\n",
    "print(\"distance of p1 and p2: \", dis)\n",
    "print(\"value of parmater 'x' of p1: \", p1.x) # how to get the value of parameter x of p1"
   ]
  },
  {
   "cell_type": "markdown",
   "metadata": {},
   "source": [
    " For more information please refer to [W3 School Python Syntax](https://www.w3schools.com/python/python_syntax.asp). Just go through \"Syntax\" to \"Inheritance\" should be enough for us.<br> \n",
    " We will use the eQuest template to illustrate how equest-api works."
   ]
  },
  {
   "cell_type": "markdown",
   "metadata": {},
   "source": [
    "First, we need to import the python files using code below. <br>\n",
    "`import equestapi as eq` <br>\n",
    "`import equestrun as er` <br>\n",
    "The file `equestapi` basically contains all the code for reading/editting/saving the inp files. The file `equestrun` will be used to call the DOE-2.2 engine to run the simualtion. See the cell below for how to read the inp file. Reading inp files will also create a backup so that you can go back to the original file if things went wrong."
   ]
  },
  {
   "cell_type": "code",
   "execution_count": 7,
   "metadata": {},
   "outputs": [
    {
     "name": "stdout",
     "output_type": "stream",
     "text": [
      "<class 'equestapi.Inp'>\n",
      "<class 'equestapi.InpList'>\n"
     ]
    }
   ],
   "source": [
    "# import two files\n",
    "import equestapi as eq\n",
    "import equestrun as er\n",
    "\n",
    "# set file location. It can be relative or absolute location\n",
    "file_loc = r\"Project 1\\\\Project 1.inp\" # use \\\\ as seperator\n",
    "# read the inp file\n",
    "inp_file = eq.Inp(file_loc)\n",
    "# a backup file \"Project 1_backup.inp\" will be created in the same folder.\n",
    "inp_list = inp_file.itemList\n",
    "print(type(inp_file))\n",
    "print(type(inp_list))"
   ]
  },
  {
   "cell_type": "markdown",
   "metadata": {},
   "source": [
    "So the `inp_file` is an `Inp` object defined in `equestapi.py`. Two important things about `Inp`: <br>\n",
    "- `Inp.itemList` - a linked list which contains all building information from the inp file. <br>\n",
    "- `Inp.save(location = None, inplace = False)` - save the inp file. By default, `inplace` is `False`, which means a new file will be created instead overwriting the existing file. If `location` is not assigned, the program will just save the file with suffix \"vx\" where x will be the version of the new file."
   ]
  },
  {
   "cell_type": "markdown",
   "metadata": {},
   "source": [
    "The object [`InpList`](#item-2) contains a linked list of all building information in the inp file. Every individual block/title block is a node in the linked list. Each node is an [`InpItem`](#item-3) or its child object. Most of them are seperated by \"..\" in the inp file and some titles will start with \"$\". This data structure ensure the order of each block in the inp file when we make changes to them. Such block and title block are named \"item\".<br>\n",
    "See below for the details of how building information is stored in python object."
   ]
  },
  {
   "cell_type": "code",
   "execution_count": 17,
   "metadata": {
    "scrolled": false
   },
   "outputs": [
    {
     "name": "stdout",
     "output_type": "stream",
     "text": [
      "1st node item type:  <class 'equestapi.InpItem'> \n",
      "1st node item content: \n",
      "\t INPUT ..\n",
      "\t \n",
      "2nd node item type:  <class 'equestapi.Title'> \n",
      "2nd node item content: \n",
      "\t $ ---------------------------------------------------------\n",
      "\t $              Abort, Diagnostics\n",
      "\t $ ---------------------------------------------------------\n",
      "\t \n",
      "3rd node item type:  <class 'equestapi.Title'> \n",
      "3rd node item content: \n",
      "\t $ ---------------------------------------------------------\n",
      "\t $              Global Parameters\n",
      "\t $ ---------------------------------------------------------\n",
      "\t \n",
      "4th node item type:  <class 'equestapi.Title'> \n",
      "4th node item content: \n",
      "\t $ ---------------------------------------------------------\n",
      "\t $              Title, Run Periods, Design Days, Holidays\n",
      "\t $ ---------------------------------------------------------\n",
      "\t \n",
      "5th node item type:  <class 'equestapi.InpItem'> \n",
      "5th node item content: \n",
      "\t TITLE           \n",
      "\t    LINE-1           = *Project 1*\n",
      "\t    ..\n",
      "\t \n",
      "6th node item type:  <class 'equestapi.InpItem'> \n",
      "6th node item content: \n",
      "\t \"Entire Year\" = RUN-PERIOD-PD\n",
      "\t    BEGIN-MONTH      = 1\n",
      "\t    BEGIN-DAY        = 1\n",
      "\t    BEGIN-YEAR       = 2019\n",
      "\t    END-MONTH        = 12\n",
      "\t    END-DAY          = 31\n",
      "\t    END-YEAR         = 2019\n",
      "\t    ..\n",
      "\t \n"
     ]
    }
   ],
   "source": [
    "first_item = inp_list.head\n",
    "sec_item = first_item.next\n",
    "third_item = sec_item.next\n",
    "forth_item = third_item.next\n",
    "fifth_item = forth_item.next\n",
    "sixth_item = fifth_item.next\n",
    "print(\"1st node item type: \",type(first_item), \"\\n1st node item content: \\n\\t\", str(first_item.inp_text).replace(\"\\n\", \"\\n\\t \"))\n",
    "print(\"2nd node item type: \",type(sec_item), \"\\n2nd node item content: \\n\\t\", str(sec_item).replace(\"\\n\", \"\\n\\t \"))\n",
    "print(\"3rd node item type: \",type(third_item), \"\\n3rd node item content: \\n\\t\", str(third_item).replace(\"\\n\", \"\\n\\t \"))\n",
    "print(\"4th node item type: \",type(forth_item), \"\\n4th node item content: \\n\\t\", str(forth_item).replace(\"\\n\", \"\\n\\t \"))\n",
    "print(\"5th node item type: \",type(fifth_item), \"\\n5th node item content: \\n\\t\", str(fifth_item).replace(\"\\n\", \"\\n\\t \"))\n",
    "print(\"6th node item type: \",type(sixth_item), \"\\n6th node item content: \\n\\t\", str(sixth_item.inp_text).replace(\"\\n\", \"\\n\\t \"))"
   ]
  },
  {
   "cell_type": "markdown",
   "metadata": {},
   "source": [
    "`InpList` -  also have some other properties and methods, detailed [below](#item-2). <br>\n",
    "`InpItem` - is the parent object for all kinds of blocks and title blocks in the inp file. It also works as a node in the `InpList`(it basically has an parameter `prev` which point to the previous node and `next` which point to next node). All the child objects like [`Title(InpItem)`](#item-4) and [`AirSystem(InpItem)`](#item-6) will inherite the properties and methods of `InpItem` and the child object will have some special paramters and methods. See below for some sample code about how to access items."
   ]
  },
  {
   "cell_type": "code",
   "execution_count": 25,
   "metadata": {
    "scrolled": true
   },
   "outputs": [
    {
     "name": "stdout",
     "output_type": "stream",
     "text": [
      "{'BUILD-PARAMETERS', 'GLASS-TYPE', 'CIRCULATION-LOOP', 'BASELINE', 'POLYGON', 'MASTER-METERS', 'PUMP', 'TITLE', 'SPACE', 'RUN-PERIOD-PD', 'CONSTRUCTION', 'SCHEDULE-PD', 'DW-HEATER', 'HOURLY-REPORT', 'SYSTEM', 'ELEC-METER', 'WEEK-SCHEDULE-PD', 'DAY-SCHEDULE-PD', 'LAYERS', 'BOILER', 'SS', 'FLOOR', 'ZONE', 'WINDOW', 'INTERIOR-WALL', 'SITE-PARAMETERS', 'EXTERIOR-WALL', 'HOLIDAYS', 'HEAT-REJECTION', 'MATERIAL', 'UNDERGROUND-WALL'}\n"
     ]
    }
   ],
   "source": [
    "# Get all item types/key words, which is the string behind the \"=\" at the first line of each block.\n",
    "# Title blocks will be counted as 'SS'.\n",
    "print(inp_list.get_all_types())"
   ]
  },
  {
   "cell_type": "markdown",
   "metadata": {},
   "source": [
    "There're two ways to access all items by its type. For the space below:<br>\n",
    "`\"EL1 South Perim Spc (G.S1)\" = SPACE`<br>`...`<br>\n",
    "We can either acess by the object type `eq.Space` or the key word `SPACE` (see below). Please note that if the item type is not implement yet, only by key word works."
   ]
  },
  {
   "cell_type": "code",
   "execution_count": 28,
   "metadata": {
    "scrolled": true
   },
   "outputs": [
    {
     "name": "stdout",
     "output_type": "stream",
     "text": [
      "EL1 South Perim Spc (G.S1)\n",
      "EL1 East Perim Spc (G.E2)\n",
      "EL1 North Perim Spc (G.N3)\n",
      "EL1 West Perim Spc (G.W4)\n",
      "EL1 Core Spc (G.C5)\n"
     ]
    }
   ],
   "source": [
    "# get all spaces by object type\n",
    "all_spaces = inp_list.get_item_by_class(eq.Space)\n",
    "# print all space names\n",
    "for space in all_spaces:\n",
    "    print(space.name)"
   ]
  },
  {
   "cell_type": "code",
   "execution_count": 30,
   "metadata": {
    "scrolled": true
   },
   "outputs": [
    {
     "name": "stdout",
     "output_type": "stream",
     "text": [
      "EL1 South Perim Spc (G.S1)\n",
      "EL1 East Perim Spc (G.E2)\n",
      "EL1 North Perim Spc (G.N3)\n",
      "EL1 West Perim Spc (G.W4)\n",
      "EL1 Core Spc (G.C5)\n"
     ]
    }
   ],
   "source": [
    "# get spaces by key word\n",
    "all_spaces = inp_list.get_item_by_type(\"SPACE\")\n",
    "# print all space names\n",
    "for space in all_spaces:\n",
    "    print(space.name)"
   ]
  },
  {
   "cell_type": "markdown",
   "metadata": {},
   "source": [
    "Take `eq.Space` as an example to illustrate a typical `InpItem`'s paramters."
   ]
  },
  {
   "cell_type": "code",
   "execution_count": 41,
   "metadata": {
    "scrolled": false
   },
   "outputs": [
    {
     "name": "stdout",
     "output_type": "stream",
     "text": [
      "Common Parameters:\n",
      "Inp Text: \n",
      " \"EL1 South Perim Spc (G.S1)\" = SPACE           \t   SHAPE            = POLYGON\t   ZONE-TYPE        = CONDITIONED\t   PEOPLE-SCHEDULE  = \"EL1 Bldg Occup Sch\"\t   LIGHTING-SCHEDUL = ( \"EL1 Bldg InsLt Sch\" )\t   EQUIP-SCHEDULE   = ( \"EL1 Bldg Misc Sch\" )\t   INF-SCHEDULE     = \"ZG0-S1 (PVVT) P-Inf Sch\"\t   INF-METHOD       = AIR-CHANGE\t   INF-FLOW/AREA    = 0.0566793\t   PEOPLE-HG-LAT    = 130.53\t   PEOPLE-HG-SENS   = 245.478\t   EQUIP-LATENT     = ( 0 )\t   EQUIP-SENSIBLE   = ( 1 )\t   LIGHTING-W/AREA  = ( 2.27884 )\t   EQUIPMENT-W/AREA = ( 0.407 )\t   AREA/PERSON      = 72.5702\t   POLYGON          = \"EL1 Space Polygon 1\"\t   LOCATION         = FLOOR-V1\t   C-SUB-SRC-BTUH   = ( 0, 0, 0 )\t   C-SUB-SRC-KW     = ( 0, 0, 0 )\t   C-ACTIVITY-DESC  = *Religious Worship (40%)*\t   ..\t\n",
      "Inp Item Name:  EL1 South Perim Spc (G.S1)\n",
      "Inp Item Type:  SPACE\n",
      "Inp List:  <equestapi.InpList object at 0x0000012EF58B56D8>\n",
      "Previous Item:  FLOOR: EL1 Ground Flr\n",
      "Next Item:  EXTERIOR-WALL: EL1 South Wall (G.S1.E1)\n",
      "\n",
      "Space Special Paramters:\n",
      "Thermal zone space belongs to:  ZONE: EL1 Core Zn (G.C5)\n",
      "Space Activity Type:  *Religious Worship (32%)*\n",
      "Conditioned Type:  True\n",
      "Walls:  [EXTERIOR-WALL: EL1 Roof (G.C5.E9), UNDERGROUND-WALL: EL1 Flr (G.C5.U5)]\n",
      "Roof:  [EXTERIOR-WALL: EL1 Roof (G.C5.E9)]\n"
     ]
    }
   ],
   "source": [
    "# Typical InpItem (takes Space as an example)\n",
    "space1 = all_spaces[0] # the first space in the file\n",
    "\n",
    "# all InpItem's common paramters\n",
    "print(\"Common Parameters:\")\n",
    "print(\"Inp Text: \\n\", space1.inp_text.replace(\"\\n\", \"\\t\"))\n",
    "print(\"Inp Item Name: \", space1.name)\n",
    "print(\"Inp Item Type: \", space1.iType)\n",
    "print(\"Inp List: \", space1.inp_list) # the inp list that the InpItem belongs to\n",
    "print(\"Previous Item: \", space1.prev) # next item\n",
    "print(\"Next Item: \", space1.next) # next item\n",
    "# Space's parameters\n",
    "print(\"\\nSpace Special Paramters:\")\n",
    "print(\"Thermal zone space belongs to: \", space.zone)\n",
    "print(\"Space Activity Type: \", space.activity_type)\n",
    "print(\"Conditioned Type: \", space.conditioned)\n",
    "print(\"Walls: \", space.walls) # including roofs, walls, and flrs\n",
    "print(\"Roof: \", space.roofs)"
   ]
  },
  {
   "cell_type": "markdown",
   "metadata": {},
   "source": [
    "## Quick Demos\n",
    "<a id=\"qd-1\"></a>\n",
    "### 1. Quickly set up detailed model based on space name\n",
    "This code below was used for 223 23rd st project. I put it here just for a reference about the general work flow to setup a model quickly. Check \"zonetypeslookup.csv\" and \"inputsample.py\" for the details of some how input information is formatted. This is also the first project that used the interface to setup the energy model and obviously there're much better ways to do it within the interface built."
   ]
  },
  {
   "cell_type": "code",
   "execution_count": null,
   "metadata": {
    "collapsed": true
   },
   "outputs": [],
   "source": [
    "# Setting Inputs\n",
    "import sys\n",
    "file_loc = r\"C:\\Users\\usxl671686\\Desktop\\N19 223 23rd St\\Energy Model\\Test\\223 23rd St DOAS.inp\"\n",
    "lookup_loc = r\"zonetypeslookup.csv\"\n",
    "input_loc = r\"C:\\Users\\usxl671686\\Desktop\\N19 223 23rd St\\Energy Model\\Resources\"\n",
    "baseline_loc = r\"C:\\Users\\usxl671686\\Desktop\\N19 223 23rd St\\Energy Model\\Test\\223 23rd St Baseline.inp\"\n",
    "sys.path.insert(1, input_loc)\n",
    "from inputsample import data\n",
    "from inputsample import zone_data\n",
    "# End of Inputs\n",
    "\n",
    "# read .inp file\n",
    "inp = eq.Inp(file_loc)\n",
    "itemList = inp.itemList\n",
    "spaces = itemList.get_item_by_type(\"SPACE\")\n",
    "print(\"223 23rd St Model has: {} zones\".format(len(spaces)))\n",
    "# change space type\n",
    "lookup_table = pd.read_csv(lookup_loc)\n",
    "lookup = eq.Space.parse_lookup_table(lookup_table)\n",
    "for space in spaces:\n",
    "    space.change_act_type_by_name(lookup)\n",
    "print(\"Space types has been changed to eQuest code Type.\")\n",
    "# Pass Test: True\n",
    "\n",
    "# set occ, lighting, equipment to default, except equipment load in apt.\n",
    "occ = r\"AREA/PERSON\"\n",
    "light = r\"LIGHTING-W/AREA\"\n",
    "equip = r\"EQUIPMENT-W/AREA\"\n",
    "for space in spaces:\n",
    "    space.reset_default(occ)\n",
    "    space.reset_default(light)\n",
    "    if space.activity_type != \"*APT*\":\n",
    "        space.reset_default(equip)\n",
    "\n",
    "# add user-defined default to occ, light, equip\n",
    "titles = itemList.get_item_by_type(\"TITLE\")\n",
    "for t in titles:\n",
    "    if t.name == \"Floors / Spaces / Walls / Windows / Doors\":\n",
    "        itemList.add_default_settings(t, \"SPACE\", data)\n",
    "        \n",
    "# system inputs changes\n",
    "# remove fan power \n",
    "systems = itemList.get_item_by_type(\"SYSTEM\")\n",
    "\n",
    "for sys in systems:\n",
    "    sys.reset_default(\"SUPPLY-STATIC\")\n",
    "    sys.reset_default(\"SUPPLY-EFF\")\n",
    "    sys.reset_default(\"RETURN-EFF\")\n",
    "    sys.reset_default(\"SIZING-RATIO\")\n",
    "for sys in systems:\n",
    "    if sys.sysType == \"PVVT\" or sys.sysType == \"PTAC\":\n",
    "        sys.set_fan_power(0.0003)\n",
    "        sys.heat_sizing_ratio = 1.25\n",
    "        sys.cool_sizing_ratio = 1.15\n",
    "        sys.night_cycle = \"CYCLE-ON-ANY\"\n",
    "    # add DOAS settings for sys2, sys7, sys8, sys9, sys12\n",
    "    sys_name = sys.name\n",
    "    if \"Sys2\" in sys_name or \"S7\" in sys_name or \"S8\" in sys_name \\\n",
    "    or \"S9\" in sys_name or \"Sys12\" in sys_name:\n",
    "        sys.oa_from_sys = '\"S1 Sys (PVVT)\"'\n",
    "    \n",
    "# zone inputs changes\n",
    "zones = itemList.get_item_by_type(\"ZONE\")\n",
    "for zone in zones:\n",
    "    zone.reset_default(\"OA-FLOW/PER\")\n",
    "\n",
    "# add default settings\n",
    "titles = itemList.get_item_by_type(\"TITLE\")\n",
    "for t in titles:\n",
    "    if t.name == \"HVAC Systems / Zones\":\n",
    "        itemList.add_default_settings(t, \"ZONE\", zone_data)\n",
    "\n",
    "#Remove Zone Heat Source for Apartment and Corridor WSHP\n",
    "for sys in systems:\n",
    "    if \"Sys2\" in sys.name or \"Sys12\" in sys.name:\n",
    "        sys._set_value(\"ZONE-HEAT-SOURCE\", \"NONE\")\n",
    "        \n",
    "# Correct Equipment Load for Dwelling Unit\n",
    "# In-Unit misc: 0.5 w/sf\n",
    "# Refreg: 0.262 w/sf\n",
    "# Stove: 0.374 w/sf\n",
    "# Washer and Dishwasher: 0.035+0.102 = 0.137 w/sf\n",
    "spaces = itemList.get_item_by_type(\"SPACE\")\n",
    "for s in spaces:\n",
    "    if s.activity_type == \"*APT*\":\n",
    "        s._set_value(\"EQUIPMENT-W/AREA\", \"( &D, 0, 0, 0, 0 )\")\n",
    "# Do the same for baseline model        \n",
    "inp_base = eq.Inp(baseline_loc)\n",
    "itemList_base = inp_base.itemList\n",
    "spaces = itemList_base.get_item_by_type(\"SPACE\")\n",
    "for s in spaces:\n",
    "    if s.activity_type == \"*APT*\":\n",
    "        s._set_value(\"EQUIPMENT-W/AREA\", \"( &D, 0, 0, 0, 0 )\")   \n",
    "\n",
    "# Set Baseline WWR to 40%\n",
    "wins = items_base.get_item_by_type(\"WINDOW\")\n",
    "for win in wins:\n",
    "    h = win._get_value(\"HEIGHT\")\n",
    "    win._set_value(\"HEIGHT\", \"\"\"{{{height}*#pa(\"WRatio\")}}\"\"\".format(height = h))\n",
    "    \n",
    "# Change OA Schedule\n",
    "# proposed\n",
    "systems = itemList.get_item_by_type(\"SYSTEM\")\n",
    "for s in systems:\n",
    "    if s._get_value(\"TYPE\") == \"PVVT\":\n",
    "        s.reset_default(\"MIN-AIR-SCH\")\n",
    "# baseline\n",
    "systems = itemList_base.get_item_by_type(\"SYSTEM\")\n",
    "for s in systems:\n",
    "    if s._get_value(\"TYPE\") == \"PTAC\":\n",
    "        s.reset_default(\"MIN-AIR-SCH\")\n",
    "        \n",
    "# Change proposed heatitng EIR\n",
    "systems = itemList.get_item_by_type(\"SYSTEM\")\n",
    "for s in systems:\n",
    "    if s._get_value(\"TYPE\") == \"PVVT\":\n",
    "        s._set_value(\"HEATING-EIR\", '{#pa(\"HeatingEIR\")}')\n",
    "\n",
    "# save both files\n",
    "inp_base.save(inplace = True)\n",
    "inp.save(inplace = True)"
   ]
  },
  {
   "cell_type": "markdown",
   "metadata": {},
   "source": [
    "<a id=\"qd-2\"></a>\n",
    "### 2. Change semi-exterior walls to a certain construction\n",
    "**Warning Info: ** \"unconditioned {} {} was connected to conditioned {} {}. Revise before proceeding.\" <br>\n",
    "**Solution: ** make sure zone/space is consistent."
   ]
  },
  {
   "cell_type": "code",
   "execution_count": 2,
   "metadata": {
    "scrolled": true
   },
   "outputs": [
    {
     "name": "stdout",
     "output_type": "stream",
     "text": [
      "unconditioned space:  [SPACE: EL1 North Perim Spc (G.N3)]\n",
      "unconditioned_zones:  [ZONE: EL1 North Perim Zn (G.N3)]\n",
      "INTERIOR-WALL: EL1 NW Wall (G.E2.I4) was modified to semi-exterior construction.\n",
      "INTERIOR-WALL: EL1 SW Wall (G.N3.I6) was modified to semi-exterior construction.\n",
      "INTERIOR-WALL: EL1 South Wall (G.N3.I7) was modified to semi-exterior construction.\n"
     ]
    },
    {
     "data": {
      "text/plain": [
       "True"
      ]
     },
     "execution_count": 2,
     "metadata": {},
     "output_type": "execute_result"
    }
   ],
   "source": [
    "# Demo 2\n",
    "\n",
    "# import package\n",
    "import equestapi as eq\n",
    "import equestrun as er\n",
    "\n",
    "# loading inp file\n",
    "inp_file = r\"Project 1\\\\Project 1.inp\"\n",
    "inp = eq.Inp(inp_file)\n",
    "item_list = inp.itemList\n",
    "\n",
    "# set up semi-xterior wall construction name\n",
    "cons_name = \"EL1 EWall Construction\"\n",
    "\n",
    "# run methods\n",
    "item_list.enhance_semi_exterior_wall(cons_name)"
   ]
  },
  {
   "cell_type": "markdown",
   "metadata": {},
   "source": [
    "## Classes [To Be Updated]\n",
    "<a id=\"item-1\"></a>\n",
    "1. `Inp(object)`\n",
    "    - **Parameters** \n",
    "        - `file_loc`<br>File location of the .inp file.\n",
    "        - `version` - TBD\n",
    "        - `itemList` - `InpList`<br> Contains all items in the .inp file in a linked list.\n",
    "    - ** Methods**\n",
    "        - `create_rectangle_shade`\n",
    "        - `create_global_parameter(name=string, value=float/int/double)`<br>create a global parameter in the .inp file.\n",
    "        - `save(name=str, inplace=False)`<br>save inp. file.\n",
    "<br>\n",
    "<br>\n",
    "<a id=\"item-2\"></a>\n",
    "2. `InpList(object)`\n",
    "    - **Parameters**\n",
    "    - ** Methods**\n",
    "        - `get_all_types(self)`<br>return all item types of the inp. file.\n",
    "        - `get_item_by_type(self, item_type=str)`<br>get all items in the inp. file by the type.\n",
    "        - `insert_after(self, prev_node=InpItem, new_item=InpItem)`<br>insert new item to the inp. file.\n",
    "        - `printList(self)`<br>\n",
    "        - `add_default_settings(self, title=Title, item_type=str, data=dict())`<br> add defualt setting to the inp file. `title` is the type object to add. <br><br>\n",
    "<a id=\"item-3\"></a>\n",
    "3. `InpItem(object)`\n",
    "    - **Params**\n",
    "        - `name` <br> name of the inp item.\n",
    "        - `iType` <br> item type.\n",
    "    - ** Methods**\n",
    "        - `_get_value(self, key=str)` <br> \\[private\\] get value by attribute name.\n",
    "        - `_set_value(self, key=str, value=str)` <br> \\[private\\] set value by attribute name.\n",
    "        - `_get_type_and_name(self)` <br> \\[private\\] return item type and name.\n",
    "        - `change_name(self, new_name=str)` <br> change name of the item.\n",
    "        - `reset_default(self, attr_name=str)` <br> reset attribute value to default.\n",
    "       <br><br>\n",
    "       \n",
    "<a id=\"item-4\"></a>\n",
    "4. `Title(InpItem)` \n",
    "<br> \n",
    "<br><br>\n",
    "<a id=\"item-5\"></a>\n",
    "5. `DefaultSetting(InpItem)`\n",
    "<a id=\"item-6\"></a>\n",
    "6. `AirSystem(InpItem)`\n",
    "<a id=\"item-7\"></a>\n",
    "7. `Zone(InpItem)`\n",
    "<a id=\"item-8\"></a>\n",
    "8. `Flr(InpItem)`\n",
    "<a id=\"item-9\"></a>\n",
    "9. `Space(InpItem)`\n",
    "<a id=\"item-10\"></a>\n",
    "10. `Wall(InpItem)`\n",
    "<a id=\"item-11\"></a>\n",
    "11. `Win(InpItem)`\n",
    "<a id=\"item-12\"></a>\n",
    "12. `Door(InpItem)`"
   ]
  },
  {
   "cell_type": "markdown",
   "metadata": {},
   "source": [
    "** Appendix** <br>\n",
    "**All eQuest Item Types**<br>\n",
    "Abort, <br>\n",
    "Diagnostics, <br>\n",
    "Global Parameters,<br>\n",
    "Title,<br>\n",
    "Run Periods,<br>\n",
    "Design Days,<br>\n",
    "Holidays,<br>\n",
    "Compliance Data, <br>\n",
    "Site, <br>\n",
    "Building Data,<br>\n",
    "Materials -> Layers -> Constructions<br>\n",
    "Glass Type Codes, <br>\n",
    "Glass Types, <br>\n",
    "Window Layers,<br>\n",
    "Lamps -> LUminaries -> Lighting Systems, <br>\n",
    "Day Schedules -> Week Schedules -> Annual Schedules, <br>\n",
    "Polygons,<br>\n",
    "Wall Parameters,<br>\n",
    "Fixed and Building Shades,<br>\n",
    "Misc Cost Related Objects,<br>\n",
    "Performance Curves,<br>\n",
    "Floors <- Spaces <- Walls <- Windows <- Doors<br>\n",
    "Electric and Fuel Meters<br>\n",
    "Electric Meters<br>\n",
    "Master Meters<br>\n",
    "HVAC Circulation Loops <- Plant Equipment<br>\n",
    "Pumps<br>\n",
    "Heat Exchangers<br>\n",
    "Circulation Loops<br>\n",
    "Chillers<br>\n",
    "Boilers <br>\n",
    "Domestic Water Heaters<br>\n",
    "Heat Rejection<br>\n",
    "Tower Free Cooling<br>\n",
    "Phtovoltaic Modules<br>\n",
    "Electric Generators<br>\n",
    "Thermal Storage<br>\n",
    "Ground Loop Heat Exchangers<br>\n",
    "Compliance DHW (Residential dwelling unit)<br>\n",
    "Steam and Chilled Water Meters<br>\n",
    "Steam Meters<br>\n",
    "Chilled Water Meters<br>\n",
    "HVAC Systems <- Zones<br>\n",
    "Metering and Misc HVAC<br>\n",
    "Equipment Controls<br>\n",
    "Load Management<br>\n",
    "Utility Rates<br>\n",
    "Ratchets<br>\n",
    "Block Charges<br>\n",
    "Utility Rates<br>\n",
    "Output Reporting<br>\n",
    "Loads Non-Hourly Reporting<br>\n",
    "Systems Non-Hourly Reporting<br>\n",
    "Plant Non-Hourly Reporting<br>\n",
    "Economics Non-Hourly Reporting<br>\n",
    "Hourly Reporting<br>\n",
    "The End<br>\n"
   ]
  }
 ],
 "metadata": {
  "kernelspec": {
   "display_name": "Python 3",
   "language": "python",
   "name": "python3"
  },
  "language_info": {
   "codemirror_mode": {
    "name": "ipython",
    "version": 3
   },
   "file_extension": ".py",
   "mimetype": "text/x-python",
   "name": "python",
   "nbconvert_exporter": "python",
   "pygments_lexer": "ipython3",
   "version": "3.6.5"
  }
 },
 "nbformat": 4,
 "nbformat_minor": 2
}
